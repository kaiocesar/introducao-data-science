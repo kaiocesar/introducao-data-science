{
 "cells": [
  {
   "cell_type": "code",
   "execution_count": 26,
   "metadata": {},
   "outputs": [],
   "source": [
    "import pandas as pd\n",
    "import seaborn as sns"
   ]
  },
  {
   "cell_type": "code",
   "execution_count": 27,
   "metadata": {},
   "outputs": [
    {
     "data": {
      "text/plain": [
       "0    [{\"id\": 28, \"name\": \"Action\"}, {\"id\": 12, \"nam...\n",
       "1    [{\"id\": 12, \"name\": \"Adventure\"}, {\"id\": 14, \"...\n",
       "2    [{\"id\": 28, \"name\": \"Action\"}, {\"id\": 12, \"nam...\n",
       "3    [{\"id\": 28, \"name\": \"Action\"}, {\"id\": 80, \"nam...\n",
       "4    [{\"id\": 28, \"name\": \"Action\"}, {\"id\": 12, \"nam...\n",
       "Name: genres, dtype: object"
      ]
     },
     "execution_count": 27,
     "metadata": {},
     "output_type": "execute_result"
    }
   ],
   "source": [
    "movies = pd.read_csv('files/tmdb_5000_movies.csv')\n",
    "movies.head().genres"
   ]
  },
  {
   "cell_type": "markdown",
   "metadata": {},
   "source": [
    "# The country with the most movies number"
   ]
  },
  {
   "cell_type": "code",
   "execution_count": 85,
   "metadata": {},
   "outputs": [],
   "source": [
    "total_language = movies.original_language.value_counts().to_frame().reset_index()\n",
    "total_language.columns = ['original_language', 'total']\n",
    "total_biggest = total_language.loc[0].total\n",
    "total_others = total_language.total.sum() - total_biggest\n",
    "df_movies = pd.DataFrame({'language': \n",
    "             [total_language.loc[0].original_language, 'others'], \n",
    "             'total': \n",
    "             [total_biggest, total_others]})"
   ]
  },
  {
   "cell_type": "markdown",
   "metadata": {},
   "source": [
    "\n",
    "# Visualization"
   ]
  },
  {
   "cell_type": "code",
   "execution_count": 92,
   "metadata": {},
   "outputs": [
    {
     "data": {
      "text/plain": [
       "Text(0, 0.5, 'Number of movies')"
      ]
     },
     "execution_count": 92,
     "metadata": {},
     "output_type": "execute_result"
    },
    {
     "data": {
      "image/png": "[encoded data removed]",
      "text/plain": [
       "<Figure size 432x288 with 1 Axes>"
      ]
     },
     "metadata": {
      "needs_background": "light"
     },
     "output_type": "display_data"
    }
   ],
   "source": [
    "sns.barplot(x=\"language\", y=\"total\", data=df_movies).set_ylabel('Number of movies')"
   ]
  }
 ],
 "metadata": {
  "kernelspec": {
   "display_name": "Python 3",
   "language": "python",
   "name": "python3"
  },
  "language_info": {
   "codemirror_mode": {
    "name": "ipython",
    "version": 3
   },
   "file_extension": ".py",
   "mimetype": "text/x-python",
   "name": "python",
   "nbconvert_exporter": "python",
   "pygments_lexer": "ipython3",
   "version": "3.7.1"
  }
 },
 "nbformat": 4,
 "nbformat_minor": 2
}
